{
 "cells": [
  {
   "cell_type": "markdown",
   "metadata": {},
   "source": [
    "# Operatoren"
   ]
  },
  {
   "cell_type": "code",
   "execution_count": 10,
   "metadata": {
    "collapsed": false
   },
   "outputs": [
    {
     "data": {
      "text/plain": [
       "[('5 + 3', 8),\n",
       " ('5 - 3', 2),\n",
       " ('5 * 3', 15),\n",
       " ('5 / 3', 1.6666666666666667),\n",
       " ('5 // 3', 1),\n",
       " ('5 % 3', 2),\n",
       " ('5 ** 3', 125)]"
      ]
     },
     "execution_count": 10,
     "metadata": {},
     "output_type": "execute_result"
    }
   ],
   "source": [
    "operator_listing = [(x, eval(x)) for x in [\n",
    "    '5 + 3', \n",
    "    '5 - 3',\n",
    "    '5 * 3',\n",
    "    '5 / 3',\n",
    "    '5 // 3',\n",
    "    '5 % 3',\n",
    "    '5 ** 3'\n",
    "]]\n",
    "\n",
    "operator_listing"
   ]
  },
  {
   "cell_type": "markdown",
   "metadata": {},
   "source": [
    "# Komplexe Zahlen"
   ]
  },
  {
   "cell_type": "code",
   "execution_count": 13,
   "metadata": {
    "collapsed": false
   },
   "outputs": [
    {
     "name": "stdout",
     "output_type": "stream",
     "text": [
      "(5+3j)\n",
      "<class 'complex'>\n",
      "5.0\n",
      "3.0\n"
     ]
    }
   ],
   "source": [
    "c = 5 + 3j\n",
    "\n",
    "print(c)\n",
    "print(type(c))\n",
    "print(c.real)\n",
    "print(c.imag)"
   ]
  },
  {
   "cell_type": "markdown",
   "metadata": {},
   "source": [
    "# Brüche"
   ]
  },
  {
   "cell_type": "code",
   "execution_count": 15,
   "metadata": {
    "collapsed": false
   },
   "outputs": [
    {
     "name": "stdout",
     "output_type": "stream",
     "text": [
      "1/4\n",
      "<class 'fractions.Fraction'>\n",
      "1\n",
      "4\n"
     ]
    }
   ],
   "source": [
    "from fractions import Fraction\n",
    "\n",
    "f = Fraction(1/4)\n",
    "\n",
    "print(f)\n",
    "print(type(f))\n",
    "print(f.numerator)\n",
    "print(f.denominator)"
   ]
  }
 ],
 "metadata": {
  "kernelspec": {
   "display_name": "Python 3",
   "language": "python",
   "name": "python3"
  },
  "language_info": {
   "codemirror_mode": {
    "name": "ipython",
    "version": 3
   },
   "file_extension": ".py",
   "mimetype": "text/x-python",
   "name": "python",
   "nbconvert_exporter": "python",
   "pygments_lexer": "ipython3",
   "version": "3.5.3"
  }
 },
 "nbformat": 4,
 "nbformat_minor": 0
}
